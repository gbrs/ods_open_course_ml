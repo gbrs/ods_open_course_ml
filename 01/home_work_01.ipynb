{
 "cells": [
  {
   "cell_type": "markdown",
   "metadata": {},
   "source": [
    "https://www.youtube.com/watch?v=rWxD7vZdldY"
   ]
  },
  {
   "cell_type": "markdown",
   "metadata": {},
   "source": [
    "1  \n",
    "Написать код, который вычисляет сумму всех чисел, удовлетворяющих следующие условия:\n",
    "положительные целые числа от 1 до 1_000_000_002 (один миллиард два) включительно\n",
    "которые нацело (без остатка) делятся на 3 (пример: 3, 6, 9, ...)\n",
    "и которые не заканчиваются на 4 и 7 (пример заканчивающихся на 4 и 7: 24, 27, 54, 57 ...)"
   ]
  },
  {
   "cell_type": "code",
   "execution_count": 1,
   "metadata": {},
   "outputs": [
    {
     "data": {
      "text/plain": [
       "133333334466666672"
      ]
     },
     "execution_count": 1,
     "metadata": {},
     "output_type": "execute_result"
    }
   ],
   "source": [
    "sum(number for number in range(1, 1_000_000_002 + 1) if ((number % 3 == 0) & (number % 10 not in (4, 7))))"
   ]
  },
  {
   "cell_type": "code",
   "execution_count": 2,
   "metadata": {},
   "outputs": [
    {
     "data": {
      "text/plain": [
       "133333334466666672"
      ]
     },
     "execution_count": 2,
     "metadata": {},
     "output_type": "execute_result"
    }
   ],
   "source": [
    "sum(number for number in range(3, 1_000_000_002 + 1, 3) if number % 10 not in (4, 7))"
   ]
  },
  {
   "cell_type": "markdown",
   "metadata": {},
   "source": [
    "__________________"
   ]
  },
  {
   "cell_type": "markdown",
   "metadata": {},
   "source": [
    "2  \n",
    "На вход поступает текстовый файл из 3-х тысяч строк  \n",
    "Формат файла:  \n",
    "    \"арифметическая операция\"    \"целое число #1\"    \"целое число #2\"  \n",
    "Разделитель - 4 пробела  \n",
    "Нужно подготовить текстовый файл из 1 строки.  \n",
    "Строка содержит набор из 3-х тысяч чисел, разделенных запятой.   \n",
    "После последнего числа запятая не ставится.  \n",
    "каждое число - результат операции:  \n",
    "    \"результирующее целое число\" = \"целое число #1\" применить \"арифметическая операция\" \"целое число #2\""
   ]
  },
  {
   "cell_type": "code",
   "execution_count": 19,
   "metadata": {},
   "outputs": [],
   "source": [
    "answer = ''\n",
    "with open('test_input_file_1.txt') as f:\n",
    "    for line in f:\n",
    "        operation, number_1, number_2 = line.split()\n",
    "        answer = ','.join((answer, str(eval(number_1 + operation + number_2))))\n",
    "with open('test_output_file_1.txt', 'w') as f:\n",
    "    f.write(answer[1:])"
   ]
  },
  {
   "cell_type": "code",
   "execution_count": 20,
   "metadata": {},
   "outputs": [],
   "source": [
    "answer = ''\n",
    "with open('input_file.txt') as f:\n",
    "    for line in f:\n",
    "        operation, number_1, number_2 = line.split()\n",
    "        answer = ','.join((answer, str(eval(number_1 + operation + number_2))))answer = ','.join((answer, str(eval(number_1 + operation + number_2))))\n",
    "with open('output_file.txt', 'w') as f:\n",
    "    f.write(answer[1:])"
   ]
  },
  {
   "cell_type": "markdown",
   "metadata": {},
   "source": [
    "_____________________"
   ]
  },
  {
   "cell_type": "markdown",
   "metadata": {},
   "source": [
    "3  \n",
    "На вход поступает два текстовый файл из 3-х тысяч строк каждый.  \n",
    "Первый файл содержит строки текста.   \n",
    "Второй файл содержит строки из двух целых неотрицательных чисел.  \n",
    "Первое число в строке всегда меньше или равно второму.  \n",
    "Числа всегда меньше длины соответствующей строки первого файла.  \n",
    "Соответствующей - это значит 1-ая строка из 1-го файла соответствует 1-ой строке из 2-го файла, а 123-я строка из 1-го файла соответствует 123-ей строке из 2-го файла.  \n",
    "Подготовить выходной файл, который состоит из подстрок 1-го входного файла.  \n",
    "Подстроки разделены пробелами.  \n",
    "Какие брать подстроки - написано во втором файле.  \n",
    "В конце файла пробела нет.\n",
    "Например:  \n",
    "    120 строка в 1-ом файле: JBOljrfkrfjgikenfjerkrkvkfKUGlknc  \n",
    "    120 строка во 2-ом файле: 13 27  \n",
    "Это значит 120 подстрока в результирующем файле это символы с 13 по 27, включая 13-ый и 27-ой символы.  \n",
    "Не забывайте, что нумерация символов в строке с 0.  \n",
    "Пример требуемой подстроки: kenfjerkrkvkfKU  "
   ]
  },
  {
   "cell_type": "code",
   "execution_count": 28,
   "metadata": {},
   "outputs": [],
   "source": [
    "answer = ''\n",
    "indexies = []\n",
    "with open('test_import_file_2_2.txt') as f:\n",
    "    for line in f:\n",
    "        indexies.append(tuple(map(int, line.split())))\n",
    "\n",
    "with open('test_import_file_2_1.txt') as f:\n",
    "    for i in range(len(indexies)):\n",
    "        answer = ' '.join((answer, f.readline().strip()[indexies[i][0] : indexies[i][1] + 1]))\n",
    "\n",
    "with open('test_output_file_2.txt', 'w') as f:\n",
    "    f.write(answer[1:])"
   ]
  },
  {
   "cell_type": "code",
   "execution_count": 29,
   "metadata": {},
   "outputs": [],
   "source": [
    "answer = ''\n",
    "indexies = []\n",
    "with open('import_file_2_2.txt') as f:\n",
    "    for line in f:\n",
    "        indexies.append(tuple(map(int, line.split())))\n",
    "\n",
    "with open('import_file_2_1.txt') as f:\n",
    "    for i in range(len(indexies)):\n",
    "        answer = ' '.join((answer, f.readline().strip()[indexies[i][0] : indexies[i][1] + 1]))\n",
    "\n",
    "with open('output_file_2.txt', 'w') as f:\n",
    "    f.write(answer[1:])"
   ]
  },
  {
   "cell_type": "markdown",
   "metadata": {},
   "source": [
    "_________"
   ]
  },
  {
   "cell_type": "markdown",
   "metadata": {},
   "source": [
    "4  \n",
    "На вход поступает строка.  \n",
    "В ней хранится набор химических символов (He, O, H, Mg, Fe, ...). Без пробелов.  \n",
    "Нужно расшифровать химические символы в название химических элементов.  \n",
    "Для удобства, прилагается json файл, который ставит в соответствие химическому символу его химическое название.  \n",
    "Как прочитать этот файл в словарь python (dict):  \n",
    "periodic_table = json.load(open('periodic_table.json'))  \n",
    "Пример входной строки:  \n",
    "NOTiFICaTiON  \n",
    "Пример выходной строки:  \n",
    "АзотКислородТитанФторЙодКальцийТитанКислородАзот  \n",
    "Обратите внимание, что, например, \"Bi\" - это \"Висмут\", а не \"БорЙод\".  \n",
    "То есть регистр (заглавные или прописные) букв имеет значение.  \n",
    "Входная строка содержится в файле, скачайте его.  \n",
    "Полученную строку вставить в строку ниже.  "
   ]
  },
  {
   "cell_type": "code",
   "execution_count": 31,
   "metadata": {},
   "outputs": [],
   "source": [
    "import json"
   ]
  },
  {
   "cell_type": "code",
   "execution_count": 46,
   "metadata": {},
   "outputs": [
    {
     "data": {
      "text/plain": [
       "{'Ac': 'Актиний',\n",
       " 'Ag': 'Серебро',\n",
       " 'Al': 'Алюминий',\n",
       " 'Am': 'Америций',\n",
       " 'Ar': 'Аргон',\n",
       " 'As': 'Мышьяк',\n",
       " 'At': 'Астат',\n",
       " 'Au': 'Золото',\n",
       " 'B': 'Бор',\n",
       " 'Ba': 'Барий',\n",
       " 'Be': 'Бериллий',\n",
       " 'Bh': 'Борий',\n",
       " 'Bi': 'Висмут',\n",
       " 'Bk': 'Берклий',\n",
       " 'Br': 'Бром',\n",
       " 'C': 'Углерод',\n",
       " 'Ca': 'Кальций',\n",
       " 'Cd': 'Кадмий',\n",
       " 'Ce': 'Церий',\n",
       " 'Cf': 'Калифорний',\n",
       " 'Cl': 'Хлор',\n",
       " 'Cm': 'Кюрий',\n",
       " 'Cn': 'Коперниций',\n",
       " 'Co': 'Кобальт',\n",
       " 'Cr': 'Хром',\n",
       " 'Cs': 'Цезий',\n",
       " 'Cu': 'Медь',\n",
       " 'Db': 'Дубний',\n",
       " 'Ds': 'Дармштадтий',\n",
       " 'Dy': 'Диспрозий',\n",
       " 'Er': 'Эрбий',\n",
       " 'Es': 'Эйнштейний',\n",
       " 'Eu': 'Европий',\n",
       " 'F': 'Фтор',\n",
       " 'Fe': 'Железо',\n",
       " 'Fl': 'Флеровий',\n",
       " 'Fm': 'Фермий',\n",
       " 'Fr': 'Франций',\n",
       " 'Ga': 'Галий',\n",
       " 'Gd': 'Гадолиний',\n",
       " 'Ge': 'Германий',\n",
       " 'H': 'Водород',\n",
       " 'He': 'Гелий',\n",
       " 'Hf': 'Гафний',\n",
       " 'Hg': 'Ртуть',\n",
       " 'Ho': 'Гольмий',\n",
       " 'Hs': 'Хассий',\n",
       " 'I': 'Йод',\n",
       " 'In': 'Индий',\n",
       " 'Ir': 'Иридий',\n",
       " 'K': 'Калий',\n",
       " 'Kr': 'Криптон',\n",
       " 'La': 'Лантан',\n",
       " 'Li': 'Литий',\n",
       " 'Lr': 'Лоуренсий',\n",
       " 'Lu': 'Лютеций',\n",
       " 'Lv': 'Ливерморий',\n",
       " 'Mc': 'Московий',\n",
       " 'Md': 'Менделевий',\n",
       " 'Mg': 'Магний',\n",
       " 'Mn': 'Марганец',\n",
       " 'Mo': 'Молибден',\n",
       " 'Mt': 'Мейтнерий',\n",
       " 'N': 'Азот',\n",
       " 'Na': 'Натрий',\n",
       " 'Nb': 'Ниобий',\n",
       " 'Nd': 'Неодим',\n",
       " 'Ne': 'Неон',\n",
       " 'Nh': 'Нихоний',\n",
       " 'Ni': 'Никель',\n",
       " 'No': 'Нобелий',\n",
       " 'Np': 'Нептуний',\n",
       " 'O': 'Кислород',\n",
       " 'Ods': 'Пасхалочка',\n",
       " 'Og': 'Оганесон',\n",
       " 'Os': 'Осмий',\n",
       " 'P': 'Фосфор',\n",
       " 'Pa': 'Протактиний',\n",
       " 'Pb': 'Свинец',\n",
       " 'Pd': 'Палладий',\n",
       " 'Pm': 'Прометий',\n",
       " 'Po': 'Полоний',\n",
       " 'Pr': 'Празеодим',\n",
       " 'Pt': 'Платина',\n",
       " 'Pu': 'Плутоний',\n",
       " 'Ra': 'Радий',\n",
       " 'Rb': 'Рубидий',\n",
       " 'Re': 'Рений',\n",
       " 'Rf': 'Разерфордий',\n",
       " 'Rg': 'Ренгений',\n",
       " 'Rh': 'Родий',\n",
       " 'Rn': 'Радон',\n",
       " 'Ru': 'Рутений',\n",
       " 'S': 'Сера',\n",
       " 'Sb': 'Сурьма',\n",
       " 'Sc': 'Скандий',\n",
       " 'Se': 'Селен',\n",
       " 'Sg': 'Сиборгий',\n",
       " 'Si': 'Кремний',\n",
       " 'Sm': 'Самарий',\n",
       " 'Sn': 'Олово',\n",
       " 'Sr': 'Стронций',\n",
       " 'Ta': 'Тантал',\n",
       " 'Tb': 'Тербий',\n",
       " 'Tc': 'Технеций',\n",
       " 'Te': 'Теллур',\n",
       " 'Th': 'Торий',\n",
       " 'Ti': 'Титан',\n",
       " 'Tl': 'Таллий',\n",
       " 'Tm': 'Тулий',\n",
       " 'Ts': 'Теннессин',\n",
       " 'U': 'Уран',\n",
       " 'Uue': 'Унуненний',\n",
       " 'V': 'Ванадий',\n",
       " 'W': 'Вольфрам',\n",
       " 'Xe': 'Ксенон',\n",
       " 'Y': 'Иттрий',\n",
       " 'Yb': 'Иттербий',\n",
       " 'Zn': 'Цинк',\n",
       " 'Zr': 'Цирконий'}"
      ]
     },
     "execution_count": 46,
     "metadata": {},
     "output_type": "execute_result"
    }
   ],
   "source": [
    "periodic_table = json.load(open('periodic_table.json', encoding='utf-8'))\n",
    "periodic_table"
   ]
  },
  {
   "cell_type": "code",
   "execution_count": 44,
   "metadata": {},
   "outputs": [],
   "source": [
    "answer = ''\n",
    "with open('import_file_3.txt') as f:\n",
    "    text = f.read().strip()\n",
    "    start = 0\n",
    "    stop = 1\n",
    "    for char in text[1:]:\n",
    "        if char.isupper():\n",
    "            answer = ''.join((answer, periodic_table[text[start:stop]]))\n",
    "            start = stop\n",
    "        stop += 1\n",
    "    answer = ''.join((answer, periodic_table[text[start:stop]]))\n",
    "with open('output_file_3.txt', 'w', encoding='utf-8') as f:\n",
    "    f.write(answer)"
   ]
  },
  {
   "cell_type": "code",
   "execution_count": null,
   "metadata": {},
   "outputs": [],
   "source": []
  },
  {
   "cell_type": "code",
   "execution_count": null,
   "metadata": {},
   "outputs": [],
   "source": []
  },
  {
   "cell_type": "code",
   "execution_count": null,
   "metadata": {},
   "outputs": [],
   "source": []
  },
  {
   "cell_type": "code",
   "execution_count": null,
   "metadata": {},
   "outputs": [],
   "source": []
  },
  {
   "cell_type": "code",
   "execution_count": null,
   "metadata": {},
   "outputs": [],
   "source": []
  },
  {
   "cell_type": "code",
   "execution_count": null,
   "metadata": {},
   "outputs": [],
   "source": []
  },
  {
   "cell_type": "code",
   "execution_count": null,
   "metadata": {},
   "outputs": [],
   "source": []
  },
  {
   "cell_type": "code",
   "execution_count": null,
   "metadata": {},
   "outputs": [],
   "source": []
  }
 ],
 "metadata": {
  "kernelspec": {
   "display_name": "Python 3",
   "language": "python",
   "name": "python3"
  },
  "language_info": {
   "codemirror_mode": {
    "name": "ipython",
    "version": 3
   },
   "file_extension": ".py",
   "mimetype": "text/x-python",
   "name": "python",
   "nbconvert_exporter": "python",
   "pygments_lexer": "ipython3",
   "version": "3.7.6"
  }
 },
 "nbformat": 4,
 "nbformat_minor": 4
}
